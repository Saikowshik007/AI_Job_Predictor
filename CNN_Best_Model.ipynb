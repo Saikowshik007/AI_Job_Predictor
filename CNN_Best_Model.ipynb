{
  "nbformat": 4,
  "nbformat_minor": 0,
  "metadata": {
    "kernelspec": {
      "display_name": "Python 3",
      "language": "python",
      "name": "python3"
    },
    "language_info": {
      "codemirror_mode": {
        "name": "ipython",
        "version": 3
      },
      "file_extension": ".py",
      "mimetype": "text/x-python",
      "name": "python",
      "nbconvert_exporter": "python",
      "pygments_lexer": "ipython3",
      "version": "3.8.3"
    },
    "colab": {
      "name": "CNN-Best Model.ipynb",
      "provenance": [],
      "include_colab_link": true
    },
    "accelerator": "GPU"
  },
  "cells": [
    {
      "cell_type": "markdown",
      "metadata": {
        "id": "view-in-github",
        "colab_type": "text"
      },
      "source": [
        "<a href=\"https://colab.research.google.com/github/Saikowshik007/AI_Job_Predictor/blob/master/CNN_Best_Model.ipynb\" target=\"_parent\"><img src=\"https://colab.research.google.com/assets/colab-badge.svg\" alt=\"Open In Colab\"/></a>"
      ]
    },
    {
      "cell_type": "code",
      "metadata": {
        "scrolled": true,
        "id": "DqtZuNyJrpUg"
      },
      "source": [
        "from keras.models import Sequential\n",
        "from keras.layers import Conv1D, GlobalMaxPooling1D, Embedding, LSTM\n",
        "from keras.layers.core import Dense, Dropout, Activation\n",
        "from keras.preprocessing.text import Tokenizer\n",
        "from keras import metrics, regularizers\n",
        "from keras.preprocessing import sequence\n",
        "import pandas as pd\n",
        "\n",
        "from sklearn.model_selection import train_test_split\n",
        "from sklearn.preprocessing import LabelBinarizer"
      ],
      "execution_count": null,
      "outputs": []
    },
    {
      "cell_type": "code",
      "metadata": {
        "colab": {
          "base_uri": "https://localhost:8080/"
        },
        "id": "aZEVcSp7rpUl",
        "outputId": "857e2d29-8209-49c0-b322-420495c40b70"
      },
      "source": [
        "#Load cleaned dataset\n",
        "from google.colab import drive\n",
        "drive.mount(\"/content/gdrive\")\n",
        "data = pd.read_csv('/content/gdrive/My Drive/dataset/sample.csv', header = 0, names = ['Query', 'Description'],encoding=\"utf-8-sig\")"
      ],
      "execution_count": null,
      "outputs": [
        {
          "output_type": "stream",
          "text": [
            "Mounted at /content/gdrive\n"
          ],
          "name": "stdout"
        }
      ]
    },
    {
      "cell_type": "code",
      "metadata": {
        "id": "cEJavoN6rpUl"
      },
      "source": [
        "#Split the dataset to Training and Test subsets (90/10)\n",
        "train, test = train_test_split(data, test_size = 0.01, random_state = 17)\n",
        "\n",
        "train_descs = train['Description'].astype(\"str\")\n",
        "train_labels = train['Query'].astype(\"str\")\n",
        " \n",
        "test_descs = test['Description'].astype(\"str\")\n",
        "test_labels = test['Query'].astype(\"str\")"
      ],
      "execution_count": null,
      "outputs": []
    },
    {
      "cell_type": "code",
      "metadata": {
        "id": "OrslE7X4rpUm"
      },
      "source": [
        "# Model Parameters\n",
        "vocab_size = 1000\n",
        "\n",
        "sequences_length = 1200\n",
        "\n",
        "embedding_dimensionality = 64 \n",
        "max_features = 2000 #equal to vocab_size\n",
        "\n",
        "num_labels = len(train_labels.unique())\n",
        "batch_size = 32\n",
        "nb_epoch = 20\n",
        "\n",
        "nof_filters = 200\n",
        "kernel_size = 16\n",
        "\n",
        "hidden_dims = 512"
      ],
      "execution_count": null,
      "outputs": []
    },
    {
      "cell_type": "code",
      "metadata": {
        "id": "TMmEtidxrpUm"
      },
      "source": [
        "# Convert Texts to Numeric Vectors for Input\n",
        "tokenizer = Tokenizer(num_words = vocab_size)\n",
        "tokenizer.fit_on_texts(train_descs)\n",
        "\n",
        "x_train = tokenizer.texts_to_sequences(train_descs)\n",
        "x_test = tokenizer.texts_to_sequences(test_descs)\n",
        "\n",
        "x_train = sequence.pad_sequences(x_train, maxlen = sequences_length, padding = 'post')\n",
        "x_test = sequence.pad_sequences(x_test, maxlen = sequences_length, padding = 'post')\n",
        "\n",
        "encoder = LabelBinarizer()\n",
        "encoder.fit(train_labels)\n",
        "y_train = encoder.transform(train_labels)\n",
        "y_test = encoder.transform(test_labels)"
      ],
      "execution_count": null,
      "outputs": []
    },
    {
      "cell_type": "code",
      "metadata": {
        "colab": {
          "base_uri": "https://localhost:8080/"
        },
        "id": "SJwU-liNrpUm",
        "outputId": "b9a1f43d-027d-45c4-bd2f-a03389a6f1cb"
      },
      "source": [
        "model = Sequential()\n",
        "model.add(Embedding(max_features, embedding_dimensionality, input_length = 1200))\n",
        "\n",
        "model.add(Conv1D(nof_filters, kernel_size, padding='valid', activation='relu', strides = 1))\n",
        "model.add(GlobalMaxPooling1D())\n",
        "\n",
        "model.add(Dense(hidden_dims))\n",
        "model.add(Dropout(0.3))\n",
        "model.add(Activation('relu'))\n",
        "\n",
        "model.add(Dense(num_labels))\n",
        "model.add(Activation('softmax'))\n",
        "\n",
        "model.summary()\n",
        "model.compile(loss='categorical_crossentropy', optimizer='adam', #'sgd', 'adam', 'RMSprop', 'Adagrad'\n",
        "                   metrics = [metrics.categorical_accuracy])"
      ],
      "execution_count": null,
      "outputs": [
        {
          "output_type": "stream",
          "text": [
            "Model: \"sequential\"\n",
            "_________________________________________________________________\n",
            "Layer (type)                 Output Shape              Param #   \n",
            "=================================================================\n",
            "embedding (Embedding)        (None, 1200, 64)          128000    \n",
            "_________________________________________________________________\n",
            "conv1d (Conv1D)              (None, 1185, 200)         205000    \n",
            "_________________________________________________________________\n",
            "global_max_pooling1d (Global (None, 200)               0         \n",
            "_________________________________________________________________\n",
            "dense (Dense)                (None, 512)               102912    \n",
            "_________________________________________________________________\n",
            "dropout (Dropout)            (None, 512)               0         \n",
            "_________________________________________________________________\n",
            "activation (Activation)      (None, 512)               0         \n",
            "_________________________________________________________________\n",
            "dense_1 (Dense)              (None, 25)                12825     \n",
            "_________________________________________________________________\n",
            "activation_1 (Activation)    (None, 25)                0         \n",
            "=================================================================\n",
            "Total params: 448,737\n",
            "Trainable params: 448,737\n",
            "Non-trainable params: 0\n",
            "_________________________________________________________________\n"
          ],
          "name": "stdout"
        }
      ]
    },
    {
      "cell_type": "code",
      "metadata": {
        "scrolled": true,
        "colab": {
          "base_uri": "https://localhost:8080/"
        },
        "id": "HZrMre8urpUn",
        "outputId": "897e31b3-4c68-489e-93e9-bdb1d00d6678"
      },
      "source": [
        "history = model.fit(x_train, y_train,\n",
        "                    batch_size = batch_size,\n",
        "                    epochs = nb_epoch,\n",
        "                    verbose = True,\n",
        "                    validation_split = 0.01)"
      ],
      "execution_count": null,
      "outputs": [
        {
          "output_type": "stream",
          "text": [
            "Epoch 1/20\n",
            "536/536 [==============================] - 43s 20ms/step - loss: 2.3679 - categorical_accuracy: 0.2937 - val_loss: 0.4470 - val_categorical_accuracy: 0.8563\n",
            "Epoch 2/20\n",
            "536/536 [==============================] - 10s 18ms/step - loss: 0.3733 - categorical_accuracy: 0.8832 - val_loss: 0.2505 - val_categorical_accuracy: 0.9310\n",
            "Epoch 3/20\n",
            "536/536 [==============================] - 10s 18ms/step - loss: 0.2136 - categorical_accuracy: 0.9342 - val_loss: 0.2508 - val_categorical_accuracy: 0.9138\n",
            "Epoch 4/20\n",
            "536/536 [==============================] - 10s 19ms/step - loss: 0.1669 - categorical_accuracy: 0.9487 - val_loss: 0.2131 - val_categorical_accuracy: 0.9368\n",
            "Epoch 5/20\n",
            "536/536 [==============================] - 10s 19ms/step - loss: 0.1492 - categorical_accuracy: 0.9545 - val_loss: 0.1755 - val_categorical_accuracy: 0.9368\n",
            "Epoch 6/20\n",
            "536/536 [==============================] - 10s 18ms/step - loss: 0.1335 - categorical_accuracy: 0.9590 - val_loss: 0.2344 - val_categorical_accuracy: 0.9080\n",
            "Epoch 7/20\n",
            "536/536 [==============================] - 10s 18ms/step - loss: 0.1248 - categorical_accuracy: 0.9622 - val_loss: 0.2110 - val_categorical_accuracy: 0.9195\n",
            "Epoch 8/20\n",
            "536/536 [==============================] - 10s 19ms/step - loss: 0.1106 - categorical_accuracy: 0.9623 - val_loss: 0.2534 - val_categorical_accuracy: 0.9195\n",
            "Epoch 9/20\n",
            "536/536 [==============================] - 10s 18ms/step - loss: 0.1115 - categorical_accuracy: 0.9588 - val_loss: 0.2388 - val_categorical_accuracy: 0.9368\n",
            "Epoch 10/20\n",
            "536/536 [==============================] - 10s 18ms/step - loss: 0.0884 - categorical_accuracy: 0.9671 - val_loss: 0.2448 - val_categorical_accuracy: 0.9080\n",
            "Epoch 11/20\n",
            "536/536 [==============================] - 10s 18ms/step - loss: 0.0820 - categorical_accuracy: 0.9634 - val_loss: 0.2289 - val_categorical_accuracy: 0.9195\n",
            "Epoch 12/20\n",
            "536/536 [==============================] - 10s 18ms/step - loss: 0.0774 - categorical_accuracy: 0.9664 - val_loss: 0.2718 - val_categorical_accuracy: 0.9310\n",
            "Epoch 13/20\n",
            "536/536 [==============================] - 10s 18ms/step - loss: 0.0744 - categorical_accuracy: 0.9648 - val_loss: 0.2571 - val_categorical_accuracy: 0.9138\n",
            "Epoch 14/20\n",
            "536/536 [==============================] - 10s 18ms/step - loss: 0.0720 - categorical_accuracy: 0.9639 - val_loss: 0.1913 - val_categorical_accuracy: 0.9310\n",
            "Epoch 15/20\n",
            "536/536 [==============================] - 10s 18ms/step - loss: 0.0730 - categorical_accuracy: 0.9652 - val_loss: 0.2861 - val_categorical_accuracy: 0.9138\n",
            "Epoch 16/20\n",
            "536/536 [==============================] - 10s 18ms/step - loss: 0.0715 - categorical_accuracy: 0.9655 - val_loss: 0.3595 - val_categorical_accuracy: 0.9253\n",
            "Epoch 17/20\n",
            "536/536 [==============================] - 10s 18ms/step - loss: 0.0774 - categorical_accuracy: 0.9621 - val_loss: 0.3890 - val_categorical_accuracy: 0.9138\n",
            "Epoch 18/20\n",
            "536/536 [==============================] - 10s 18ms/step - loss: 0.0692 - categorical_accuracy: 0.9652 - val_loss: 0.3678 - val_categorical_accuracy: 0.9425\n",
            "Epoch 19/20\n",
            "536/536 [==============================] - 10s 18ms/step - loss: 0.0683 - categorical_accuracy: 0.9659 - val_loss: 0.3189 - val_categorical_accuracy: 0.9425\n",
            "Epoch 20/20\n",
            "536/536 [==============================] - 10s 19ms/step - loss: 0.0648 - categorical_accuracy: 0.9657 - val_loss: 0.3486 - val_categorical_accuracy: 0.9195\n"
          ],
          "name": "stdout"
        }
      ]
    },
    {
      "cell_type": "code",
      "metadata": {
        "colab": {
          "base_uri": "https://localhost:8080/"
        },
        "id": "BFelYPQ9rpUn",
        "outputId": "8f115296-0820-4b8c-cdc6-9fc539b45ee6"
      },
      "source": [
        "score = model.evaluate(x_test, y_test, batch_size = batch_size, verbose = True)\n",
        " \n",
        "print('\\nTest categorical_crossentropy:', score[0])\n",
        "print('Categorical accuracy:', score[1])\n"
      ],
      "execution_count": null,
      "outputs": [
        {
          "output_type": "stream",
          "text": [
            "6/6 [==============================] - 0s 11ms/step - loss: 0.3182 - categorical_accuracy: 0.9086\n",
            "\n",
            "Test categorical_crossentropy: 0.3182375729084015\n",
            "Categorical accuracy: 0.9085714221000671\n"
          ],
          "name": "stdout"
        }
      ]
    },
    {
      "cell_type": "code",
      "metadata": {
        "colab": {
          "base_uri": "https://localhost:8080/",
          "height": 295
        },
        "id": "VhG8MLu4rpUo",
        "outputId": "fda3510d-e430-4dd4-d284-16975f19dcbe"
      },
      "source": [
        "# summarize history for accuracy\n",
        "import matplotlib.pyplot as plt\n",
        "\n",
        "plt.plot(history.history['categorical_accuracy'])\n",
        "plt.plot(history.history['val_categorical_accuracy'])\n",
        "plt.title('model accuracy')\n",
        "plt.ylabel('classification accuracy')\n",
        "plt.xlabel('epochs')\n",
        "plt.legend(['train', 'test'], loc='upper left')\n",
        "plt.show()"
      ],
      "execution_count": null,
      "outputs": [
        {
          "output_type": "display_data",
          "data": {
            "image/png": "[encoded data removed]",
            "text/plain": [
              "<Figure size 432x288 with 1 Axes>"
            ]
          },
          "metadata": {
            "tags": [],
            "needs_background": "light"
          }
        }
      ]
    },
    {
      "cell_type": "code",
      "metadata": {
        "id": "QPWFSCUqrpUo"
      },
      "source": [
        "model.save( '/content/gdrive/My Drive/dataset/model-cnn.h5' )"
      ],
      "execution_count": null,
      "outputs": []
    },
    {
      "cell_type": "code",
      "metadata": {
        "colab": {
          "base_uri": "https://localhost:8080/"
        },
        "id": "SF75bv4crpUo",
        "outputId": "2b121f95-43ae-4463-b229-ad07f41dfbf0"
      },
      "source": [
        "import tensorflow as tf\n",
        "\n",
        "model = tf.keras.models.load_model('/content/gdrive/My Drive/dataset/model-cnn.h5')\n",
        "converter = tf.lite.TFLiteConverter.from_keras_model(model)\n",
        "tflite_model = converter.convert()\n",
        "open(\"/content/gdrive/My Drive/dataset/converted_model-cnn.tflite\", \"wb\").write(tflite_model)"
      ],
      "execution_count": null,
      "outputs": [
        {
          "output_type": "stream",
          "text": [
            "INFO:tensorflow:Assets written to: /tmp/tmpm31jerkj/assets\n"
          ],
          "name": "stdout"
        },
        {
          "output_type": "execute_result",
          "data": {
            "text/plain": [
              "1798364"
            ]
          },
          "metadata": {
            "tags": []
          },
          "execution_count": 12
        }
      ]
    },
    {
      "cell_type": "code",
      "metadata": {
        "colab": {
          "base_uri": "https://localhost:8080/",
          "height": 295
        },
        "id": "fqys3OeQrpUo",
        "outputId": "93654cf8-8f76-4dac-a4bc-8c03875e92a0"
      },
      "source": [
        "plt.plot(history.history['loss'])\n",
        "plt.plot(history.history['val_loss'])\n",
        "plt.title('model loss')\n",
        "plt.ylabel('loss')\n",
        "plt.xlabel('epoch')\n",
        "plt.legend(['train', 'test'], loc='upper left')\n",
        "plt.show()"
      ],
      "execution_count": null,
      "outputs": [
        {
          "output_type": "display_data",
          "data": {
            "image/png": "[encoded data removed]",
            "text/plain": [
              "<Figure size 432x288 with 1 Axes>"
            ]
          },
          "metadata": {
            "tags": [],
            "needs_background": "light"
          }
        }
      ]
    },
    {
      "cell_type": "code",
      "metadata": {
        "id": "kSgXn_0UrpUp",
        "colab": {
          "base_uri": "https://localhost:8080/"
        },
        "outputId": "63851d80-d241-4d61-9b36-f4620970b561"
      },
      "source": [
        "text=input()\n",
        "try:\n",
        "    predict=model.predict(tokenizer.texts_to_sequences([text]))\n",
        "    print(predict)\n",
        "    print(encoder.inverse_transform(predict))\n",
        "    print(predict.argmax(axis=-1))\n",
        "except:\n",
        "    print(\"Invalid Input\")"
      ],
      "execution_count": null,
      "outputs": [
        {
          "output_type": "stream",
          "text": [
            "4/1AY0e-g68DL9zYlqFhxB7VXpVrTgtLXYlFaemLvu028nL8bKBhKcH8_QMAmE\n",
            "WARNING:tensorflow:Model was constructed with shape (None, 1200) for input KerasTensor(type_spec=TensorSpec(shape=(None, 1200), dtype=tf.float32, name='embedding_input'), name='embedding_input', description=\"created by layer 'embedding_input'\"), but it was called on an input with incompatible shape (None, 1).\n"
          ],
          "name": "stdout"
        },
        {
          "output_type": "stream",
          "text": [
            "WARNING:tensorflow:Model was constructed with shape (None, 1200) for input KerasTensor(type_spec=TensorSpec(shape=(None, 1200), dtype=tf.float32, name='embedding_input'), name='embedding_input', description=\"created by layer 'embedding_input'\"), but it was called on an input with incompatible shape (None, 1).\n"
          ],
          "name": "stderr"
        },
        {
          "output_type": "stream",
          "text": [
            "Invalid Input\n"
          ],
          "name": "stdout"
        }
      ]
    },
    {
      "cell_type": "code",
      "metadata": {
        "id": "-3_HZXD_rpUp"
      },
      "source": [
        "import json\n",
        "\n",
        "with open( '/content/gdrive/My Drive/dataset/dict.json' , 'w' ) as file:\n",
        "    json.dump( tokenizer.word_index , file )\n"
      ],
      "execution_count": null,
      "outputs": []
    },
    {
      "cell_type": "code",
      "metadata": {
        "id": "JspCmZQ1rpUp"
      },
      "source": [
        "import tensorflow as tf\n",
        "interpreter = tf.lite.Interpreter(\"/content/gdrive/My Drive/dataset/converted_model-cnn.tflite\")"
      ],
      "execution_count": null,
      "outputs": []
    },
    {
      "cell_type": "code",
      "metadata": {
        "id": "b6X2_Oj5rpUp"
      },
      "source": [
        "interpreter.allocate_tensors()\n",
        "input_details = interpreter.get_input_details()\n",
        "output_details = interpreter.get_output_details()"
      ],
      "execution_count": null,
      "outputs": []
    },
    {
      "cell_type": "code",
      "metadata": {
        "colab": {
          "base_uri": "https://localhost:8080/"
        },
        "id": "w1LxWojDrpUp",
        "outputId": "548e6c76-1786-4bec-9e69-815edc0f7eaa"
      },
      "source": [
        "output_details"
      ],
      "execution_count": null,
      "outputs": [
        {
          "output_type": "execute_result",
          "data": {
            "text/plain": [
              "[{'dtype': numpy.float32,\n",
              "  'index': 19,\n",
              "  'name': 'Identity',\n",
              "  'quantization': (0.0, 0),\n",
              "  'quantization_parameters': {'quantized_dimension': 0,\n",
              "   'scales': array([], dtype=float32),\n",
              "   'zero_points': array([], dtype=int32)},\n",
              "  'shape': array([ 1, 25], dtype=int32),\n",
              "  'shape_signature': array([-1, 25], dtype=int32),\n",
              "  'sparsity_parameters': {}}]"
            ]
          },
          "metadata": {
            "tags": []
          },
          "execution_count": 18
        }
      ]
    },
    {
      "cell_type": "code",
      "metadata": {
        "colab": {
          "base_uri": "https://localhost:8080/"
        },
        "id": "jpc7LCXPrpUq",
        "outputId": "5520b71e-a764-4416-d772-417ae573225d"
      },
      "source": [
        "input_details"
      ],
      "execution_count": null,
      "outputs": [
        {
          "output_type": "execute_result",
          "data": {
            "text/plain": [
              "[{'dtype': numpy.float32,\n",
              "  'index': 0,\n",
              "  'name': 'embedding_input',\n",
              "  'quantization': (0.0, 0),\n",
              "  'quantization_parameters': {'quantized_dimension': 0,\n",
              "   'scales': array([], dtype=float32),\n",
              "   'zero_points': array([], dtype=int32)},\n",
              "  'shape': array([   1, 1200], dtype=int32),\n",
              "  'shape_signature': array([  -1, 1200], dtype=int32),\n",
              "  'sparsity_parameters': {}}]"
            ]
          },
          "metadata": {
            "tags": []
          },
          "execution_count": 19
        }
      ]
    },
    {
      "cell_type": "code",
      "metadata": {
        "colab": {
          "base_uri": "https://localhost:8080/"
        },
        "id": "QSWKHckPrpUq",
        "outputId": "4fdb73bd-6a0a-4057-c531-99ffb64c274d"
      },
      "source": [
        "tf.version"
      ],
      "execution_count": null,
      "outputs": [
        {
          "output_type": "execute_result",
          "data": {
            "text/plain": [
              "<module 'tensorflow._api.v2.version' from '/usr/local/lib/python3.7/dist-packages/tensorflow/_api/v2/version/__init__.py'>"
            ]
          },
          "metadata": {
            "tags": []
          },
          "execution_count": 20
        }
      ]
    },
    {
      "cell_type": "code",
      "metadata": {
        "id": "w-zF2dXxrpUq",
        "colab": {
          "base_uri": "https://localhost:8080/"
        },
        "outputId": "507e8532-bc66-4834-dabb-6854d4c7c959"
      },
      "source": [
        "import tensorflow as tf\n",
        "from google.colab import drive\n",
        "drive.mount(\"/content/gdrive\")\n",
        "interpreter = tf.lite.Interpreter(model_path=\"/content/gdrive/My Drive/dataset/converted_model-cnn.tflite\")\n",
        "interpreter.allocate_tensors()\n",
        "\n",
        "# Print input shape and type\n",
        "inputs = interpreter.get_input_details()\n",
        "print('{} input(s):'.format(len(inputs)))\n",
        "for i in range(0, len(inputs)):\n",
        "    print('{} {}'.format(inputs[i]['shape'], inputs[i]['dtype']))\n",
        "\n",
        "# Print output shape and type\n",
        "outputs = interpreter.get_output_details()\n",
        "print('\\n{} output(s):'.format(len(outputs)))\n",
        "for i in range(0, len(outputs)):\n",
        "    print('{} {}'.format(outputs[i]['shape'], outputs[i]['dtype']))"
      ],
      "execution_count": null,
      "outputs": [
        {
          "output_type": "stream",
          "text": [
            "Drive already mounted at /content/gdrive; to attempt to forcibly remount, call drive.mount(\"/content/gdrive\", force_remount=True).\n",
            "1 input(s):\n",
            "[   1 1200] <class 'numpy.float32'>\n",
            "\n",
            "1 output(s):\n",
            "[ 1 25] <class 'numpy.float32'>\n"
          ],
          "name": "stdout"
        }
      ]
    }
  ]
}