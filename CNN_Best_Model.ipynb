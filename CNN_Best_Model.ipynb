{
  "nbformat": 4,
  "nbformat_minor": 0,
  "metadata": {
    "kernelspec": {
      "display_name": "Python 3",
      "language": "python",
      "name": "python3"
    },
    "language_info": {
      "codemirror_mode": {
        "name": "ipython",
        "version": 3
      },
      "file_extension": ".py",
      "mimetype": "text/x-python",
      "name": "python",
      "nbconvert_exporter": "python",
      "pygments_lexer": "ipython3",
      "version": "3.8.3"
    },
    "colab": {
      "name": "CNN-Best Model.ipynb",
      "provenance": [],
      "include_colab_link": true
    },
    "accelerator": "GPU"
  },
  "cells": [
    {
      "cell_type": "markdown",
      "metadata": {
        "id": "view-in-github",
        "colab_type": "text"
      },
      "source": [
        "<a href=\"https://colab.research.google.com/github/Saikowshik007/AI_Job_Predictor/blob/master/CNN_Best_Model.ipynb\" target=\"_parent\"><img src=\"https://colab.research.google.com/assets/colab-badge.svg\" alt=\"Open In Colab\"/></a>"
      ]
    },
    {
      "cell_type": "code",
      "metadata": {
        "scrolled": true,
        "id": "DqtZuNyJrpUg"
      },
      "source": [
        "from keras.models import Sequential\n",
        "from keras.layers import Conv1D, GlobalMaxPooling1D, Embedding, LSTM\n",
        "from keras.layers.core import Dense, Dropout, Activation\n",
        "from keras.preprocessing.text import Tokenizer\n",
        "from keras import metrics, regularizers\n",
        "from keras.preprocessing import sequence\n",
        "import pandas as pd\n",
        "\n",
        "from sklearn.model_selection import train_test_split\n",
        "from sklearn.preprocessing import LabelBinarizer"
      ],
      "execution_count": 21,
      "outputs": []
    },
    {
      "cell_type": "code",
      "metadata": {
        "colab": {
          "base_uri": "https://localhost:8080/"
        },
        "id": "aZEVcSp7rpUl",
        "outputId": "9ff6e008-0eaf-4ef7-8483-0bef01da0a0f"
      },
      "source": [
        "#Load cleaned dataset\n",
        "from google.colab import drive\n",
        "drive.mount(\"/content/gdrive\")\n",
        "data = pd.read_csv('/content/gdrive/My Drive/dataset/sample.csv', header = 0, names = ['Query', 'Description'],encoding=\"utf-8-sig\")"
      ],
      "execution_count": 22,
      "outputs": [
        {
          "output_type": "stream",
          "text": [
            "Drive already mounted at /content/gdrive; to attempt to forcibly remount, call drive.mount(\"/content/gdrive\", force_remount=True).\n"
          ],
          "name": "stdout"
        }
      ]
    },
    {
      "cell_type": "code",
      "metadata": {
        "id": "cEJavoN6rpUl"
      },
      "source": [
        "#Split the dataset to Training and Test subsets (90/10)\n",
        "train, test = train_test_split(data, test_size = 0.01, random_state = 17)\n",
        "\n",
        "train_descs = train['Description'].astype(\"str\")\n",
        "train_labels = train['Query'].astype(\"str\")\n",
        " \n",
        "test_descs = test['Description'].astype(\"str\")\n",
        "test_labels = test['Query'].astype(\"str\")"
      ],
      "execution_count": 23,
      "outputs": []
    },
    {
      "cell_type": "code",
      "metadata": {
        "id": "OrslE7X4rpUm"
      },
      "source": [
        "# Model Parameters\n",
        "vocab_size = 1000\n",
        "\n",
        "sequences_length = 1200\n",
        "\n",
        "embedding_dimensionality = 64 \n",
        "max_features = 2000 #equal to vocab_size\n",
        "\n",
        "num_labels = len(train_labels.unique())\n",
        "batch_size = 32\n",
        "nb_epoch = 20\n",
        "\n",
        "nof_filters = 200\n",
        "kernel_size = 16\n",
        "\n",
        "hidden_dims = 512"
      ],
      "execution_count": 24,
      "outputs": []
    },
    {
      "cell_type": "code",
      "metadata": {
        "id": "TMmEtidxrpUm"
      },
      "source": [
        "# Convert Texts to Numeric Vectors for Input\n",
        "tokenizer = Tokenizer(num_words = vocab_size)\n",
        "tokenizer.fit_on_texts(train_descs)\n",
        "\n",
        "x_train = tokenizer.texts_to_sequences(train_descs)\n",
        "x_test = tokenizer.texts_to_sequences(test_descs)\n",
        "\n",
        "x_train = sequence.pad_sequences(x_train, maxlen = sequences_length, padding = 'post')\n",
        "x_test = sequence.pad_sequences(x_test, maxlen = sequences_length, padding = 'post')\n",
        "\n",
        "encoder = LabelBinarizer()\n",
        "encoder.fit(train_labels)\n",
        "y_train = encoder.transform(train_labels)\n",
        "y_test = encoder.transform(test_labels)"
      ],
      "execution_count": 25,
      "outputs": []
    },
    {
      "cell_type": "code",
      "metadata": {
        "colab": {
          "base_uri": "https://localhost:8080/"
        },
        "id": "SJwU-liNrpUm",
        "outputId": "25949611-6bd1-49ef-9603-e32e069193bf"
      },
      "source": [
        "model = Sequential()\n",
        "model.add(Embedding(max_features, embedding_dimensionality, input_length = 1200))\n",
        "\n",
        "model.add(Conv1D(nof_filters, kernel_size, padding='valid', activation='relu', strides = 1))\n",
        "model.add(GlobalMaxPooling1D())\n",
        "\n",
        "model.add(Dense(hidden_dims))\n",
        "model.add(Dropout(0.3))\n",
        "model.add(Activation('relu'))\n",
        "\n",
        "model.add(Dense(num_labels))\n",
        "model.add(Activation('softmax'))\n",
        "\n",
        "model.summary()\n",
        "model.compile(loss='categorical_crossentropy', optimizer='adam', #'sgd', 'adam', 'RMSprop', 'Adagrad'\n",
        "                   metrics = [metrics.categorical_accuracy])"
      ],
      "execution_count": 26,
      "outputs": [
        {
          "output_type": "stream",
          "text": [
            "Model: \"sequential_1\"\n",
            "_________________________________________________________________\n",
            "Layer (type)                 Output Shape              Param #   \n",
            "=================================================================\n",
            "embedding_1 (Embedding)      (None, 1200, 64)          128000    \n",
            "_________________________________________________________________\n",
            "conv1d_1 (Conv1D)            (None, 1185, 200)         205000    \n",
            "_________________________________________________________________\n",
            "global_max_pooling1d_1 (Glob (None, 200)               0         \n",
            "_________________________________________________________________\n",
            "dense_2 (Dense)              (None, 512)               102912    \n",
            "_________________________________________________________________\n",
            "dropout_1 (Dropout)          (None, 512)               0         \n",
            "_________________________________________________________________\n",
            "activation_2 (Activation)    (None, 512)               0         \n",
            "_________________________________________________________________\n",
            "dense_3 (Dense)              (None, 25)                12825     \n",
            "_________________________________________________________________\n",
            "activation_3 (Activation)    (None, 25)                0         \n",
            "=================================================================\n",
            "Total params: 448,737\n",
            "Trainable params: 448,737\n",
            "Non-trainable params: 0\n",
            "_________________________________________________________________\n"
          ],
          "name": "stdout"
        }
      ]
    },
    {
      "cell_type": "code",
      "metadata": {
        "scrolled": true,
        "colab": {
          "base_uri": "https://localhost:8080/"
        },
        "id": "HZrMre8urpUn",
        "outputId": "60c67371-8e26-407e-fa30-7043d4bf0f9e"
      },
      "source": [
        "history = model.fit(x_train, y_train,\n",
        "                    batch_size = batch_size,\n",
        "                    epochs = nb_epoch,\n",
        "                    verbose = True,\n",
        "                    validation_split = 0.01)"
      ],
      "execution_count": 27,
      "outputs": [
        {
          "output_type": "stream",
          "text": [
            "Epoch 1/20\n",
            "536/536 [==============================] - 10s 18ms/step - loss: 2.3153 - categorical_accuracy: 0.3130 - val_loss: 0.3321 - val_categorical_accuracy: 0.8851\n",
            "Epoch 2/20\n",
            "536/536 [==============================] - 9s 18ms/step - loss: 0.3619 - categorical_accuracy: 0.8798 - val_loss: 0.2482 - val_categorical_accuracy: 0.9195\n",
            "Epoch 3/20\n",
            "536/536 [==============================] - 9s 17ms/step - loss: 0.2017 - categorical_accuracy: 0.9372 - val_loss: 0.1926 - val_categorical_accuracy: 0.9310\n",
            "Epoch 4/20\n",
            "536/536 [==============================] - 9s 18ms/step - loss: 0.1594 - categorical_accuracy: 0.9507 - val_loss: 0.2363 - val_categorical_accuracy: 0.9310\n",
            "Epoch 5/20\n",
            "536/536 [==============================] - 9s 18ms/step - loss: 0.1394 - categorical_accuracy: 0.9570 - val_loss: 0.2209 - val_categorical_accuracy: 0.9425\n",
            "Epoch 6/20\n",
            "536/536 [==============================] - 9s 18ms/step - loss: 0.1318 - categorical_accuracy: 0.9593 - val_loss: 0.2064 - val_categorical_accuracy: 0.9310\n",
            "Epoch 7/20\n",
            "536/536 [==============================] - 9s 18ms/step - loss: 0.1300 - categorical_accuracy: 0.9602 - val_loss: 0.1954 - val_categorical_accuracy: 0.9310\n",
            "Epoch 8/20\n",
            "536/536 [==============================] - 10s 18ms/step - loss: 0.1133 - categorical_accuracy: 0.9604 - val_loss: 0.2288 - val_categorical_accuracy: 0.9080\n",
            "Epoch 9/20\n",
            "536/536 [==============================] - 9s 18ms/step - loss: 0.1037 - categorical_accuracy: 0.9635 - val_loss: 0.2092 - val_categorical_accuracy: 0.9368\n",
            "Epoch 10/20\n",
            "536/536 [==============================] - 9s 18ms/step - loss: 0.0987 - categorical_accuracy: 0.9613 - val_loss: 0.2284 - val_categorical_accuracy: 0.9023\n",
            "Epoch 11/20\n",
            "536/536 [==============================] - 9s 18ms/step - loss: 0.0836 - categorical_accuracy: 0.9615 - val_loss: 0.2881 - val_categorical_accuracy: 0.9253\n",
            "Epoch 12/20\n",
            "536/536 [==============================] - 10s 18ms/step - loss: 0.0786 - categorical_accuracy: 0.9657 - val_loss: 0.2847 - val_categorical_accuracy: 0.9195\n",
            "Epoch 13/20\n",
            "536/536 [==============================] - 10s 18ms/step - loss: 0.0690 - categorical_accuracy: 0.9669 - val_loss: 0.2460 - val_categorical_accuracy: 0.9368\n",
            "Epoch 14/20\n",
            "536/536 [==============================] - 10s 18ms/step - loss: 0.0798 - categorical_accuracy: 0.9622 - val_loss: 0.3025 - val_categorical_accuracy: 0.9310\n",
            "Epoch 15/20\n",
            "536/536 [==============================] - 10s 18ms/step - loss: 0.0741 - categorical_accuracy: 0.9649 - val_loss: 0.2722 - val_categorical_accuracy: 0.9310\n",
            "Epoch 16/20\n",
            "536/536 [==============================] - 9s 18ms/step - loss: 0.0720 - categorical_accuracy: 0.9651 - val_loss: 0.3072 - val_categorical_accuracy: 0.9368\n",
            "Epoch 17/20\n",
            "536/536 [==============================] - 10s 18ms/step - loss: 0.0671 - categorical_accuracy: 0.9667 - val_loss: 0.3887 - val_categorical_accuracy: 0.9253\n",
            "Epoch 18/20\n",
            "536/536 [==============================] - 10s 18ms/step - loss: 0.0667 - categorical_accuracy: 0.9661 - val_loss: 0.3119 - val_categorical_accuracy: 0.9195\n",
            "Epoch 19/20\n",
            "536/536 [==============================] - 10s 18ms/step - loss: 0.0686 - categorical_accuracy: 0.9637 - val_loss: 0.4534 - val_categorical_accuracy: 0.9310\n",
            "Epoch 20/20\n",
            "536/536 [==============================] - 10s 18ms/step - loss: 0.0596 - categorical_accuracy: 0.9665 - val_loss: 0.4647 - val_categorical_accuracy: 0.9310\n"
          ],
          "name": "stdout"
        }
      ]
    },
    {
      "cell_type": "code",
      "metadata": {
        "colab": {
          "base_uri": "https://localhost:8080/"
        },
        "id": "BFelYPQ9rpUn",
        "outputId": "0656432f-fe96-48ce-ce7f-b36ab0a47969"
      },
      "source": [
        "score = model.evaluate(x_test, y_test, batch_size = batch_size, verbose = True)\n",
        " \n",
        "print('\\nTest categorical_crossentropy:', score[0])\n",
        "print('Categorical accuracy:', score[1])\n"
      ],
      "execution_count": 28,
      "outputs": [
        {
          "output_type": "stream",
          "text": [
            "6/6 [==============================] - 0s 6ms/step - loss: 0.5632 - categorical_accuracy: 0.9029\n",
            "\n",
            "Test categorical_crossentropy: 0.5632119178771973\n",
            "Categorical accuracy: 0.9028571248054504\n"
          ],
          "name": "stdout"
        }
      ]
    },
    {
      "cell_type": "code",
      "metadata": {
        "colab": {
          "base_uri": "https://localhost:8080/",
          "height": 295
        },
        "id": "VhG8MLu4rpUo",
        "outputId": "18f91e20-827e-4639-afc7-6eee943890ca"
      },
      "source": [
        "# summarize history for accuracy\n",
        "import matplotlib.pyplot as plt\n",
        "\n",
        "plt.plot(history.history['categorical_accuracy'])\n",
        "plt.plot(history.history['val_categorical_accuracy'])\n",
        "plt.title('model accuracy')\n",
        "plt.ylabel('classification accuracy')\n",
        "plt.xlabel('epochs')\n",
        "plt.legend(['train', 'test'], loc='upper left')\n",
        "plt.show()"
      ],
      "execution_count": 29,
      "outputs": [
        {
          "output_type": "display_data",
          "data": {
            "image/png": "[encoded data removed]",
            "text/plain": [
              "<Figure size 432x288 with 1 Axes>"
            ]
          },
          "metadata": {
            "tags": [],
            "needs_background": "light"
          }
        }
      ]
    },
    {
      "cell_type": "code",
      "metadata": {
        "id": "QPWFSCUqrpUo"
      },
      "source": [
        "model.save( '/content/gdrive/My Drive/dataset/model-cnn.h5' )"
      ],
      "execution_count": 30,
      "outputs": []
    },
    {
      "cell_type": "code",
      "metadata": {
        "colab": {
          "base_uri": "https://localhost:8080/"
        },
        "id": "SF75bv4crpUo",
        "outputId": "0f4662f9-9250-4166-f774-8c995fddb89b"
      },
      "source": [
        "import tensorflow as tf\n",
        "\n",
        "model = tf.keras.models.load_model('/content/gdrive/My Drive/dataset/model-cnn.h5')\n",
        "converter = tf.lite.TFLiteConverter.from_keras_model(model)\n",
        "tflite_model = converter.convert()\n",
        "open(\"/content/gdrive/My Drive/dataset/converted_model-cnn.tflite\", \"wb\").write(tflite_model)"
      ],
      "execution_count": 31,
      "outputs": [
        {
          "output_type": "stream",
          "text": [
            "INFO:tensorflow:Assets written to: /tmp/tmpm0j6dhja/assets\n"
          ],
          "name": "stdout"
        },
        {
          "output_type": "stream",
          "text": [
            "INFO:tensorflow:Assets written to: /tmp/tmpm0j6dhja/assets\n"
          ],
          "name": "stderr"
        },
        {
          "output_type": "execute_result",
          "data": {
            "text/plain": [
              "1798476"
            ]
          },
          "metadata": {
            "tags": []
          },
          "execution_count": 31
        }
      ]
    },
    {
      "cell_type": "code",
      "metadata": {
        "colab": {
          "base_uri": "https://localhost:8080/",
          "height": 295
        },
        "id": "fqys3OeQrpUo",
        "outputId": "6ed7863f-e71e-4719-df18-e10acb55a392"
      },
      "source": [
        "plt.plot(history.history['loss'])\n",
        "plt.plot(history.history['val_loss'])\n",
        "plt.title('model loss')\n",
        "plt.ylabel('loss')\n",
        "plt.xlabel('epoch')\n",
        "plt.legend(['train', 'test'], loc='upper left')\n",
        "plt.show()"
      ],
      "execution_count": 32,
      "outputs": [
        {
          "output_type": "display_data",
          "data": {
            "image/png": "[encoded data removed]",
            "text/plain": [
              "<Figure size 432x288 with 1 Axes>"
            ]
          },
          "metadata": {
            "tags": [],
            "needs_background": "light"
          }
        }
      ]
    },
    {
      "cell_type": "code",
      "metadata": {
        "id": "kSgXn_0UrpUp",
        "colab": {
          "base_uri": "https://localhost:8080/"
        },
        "outputId": "9ca5b1f9-e5d4-4758-dc5b-5861bc8b584b"
      },
      "source": [
        "text=input()\n",
        "try:\n",
        "    predict=model.predict(tokenizer.texts_to_sequences([text]))\n",
        "    print(predict)\n",
        "    print(encoder.inverse_transform(predict))\n",
        "    print(predict.argmax(axis=-1))\n",
        "except:\n",
        "    print(\"Invalid Input\")"
      ],
      "execution_count": 33,
      "outputs": [
        {
          "output_type": "stream",
          "text": [
            "   Education Bachelor of Technology: Computer Science, 2017- Present GITAM University, Vishakhapatnam CGPA : 8.71/10  Work Experience Computer Repair Technician- Part-Time - 05/2018 to Present Self-Employed, Vishakhapatnam Implemented overclocking CPU an Graphical processing units of computers and Laptops. Conducted custom ROM testing for hardware devices. Repaired phone software on hard bricked phones. Done jailbreaking of iPhones Performed System Operating System Updations and Trouble shooting Upgraded system devices for both laptops and desktop computers Thermal Compound repasting in Computers and Laptops between the components. Internships Technical Assistant - 05/2020 to Present Venture Development Center, North-Eastern University in collab with GITAM, Vishakhapatnam Pitched new product ideas, built and presented the proposals; Discussed, reviewed and evaluated the ideas. Worked on the idea of a prototype to order photocopies online; Designed and tested the prototype Android developer who transfer the idea into a prototype. It is a startup business idea in which we’ve created a prototype to order photocopies online. Android studio, Java ,XML , Firebase, Firestore, Cloud messaging, Recycler Views and Broadcast receivers and services.  Academic Projects Picky Copy Application, Members : 4, 7/2020 to Present\t\t Objective: To create an application for college going students and Employees in the education sector to place online orders for prints and photocopies. Developed accounts for two users : the Vendor and the Customer in Android Studio. Implemented FireBase authentication for authenticating user entry and registration. Integrating location services to identify nearest Vendors. Incorporated Chat Application to conduct live chat on the app between customers and vendors. Utilized FireStore to manages user files through cloud.   Website for Blood Donors based on locality, Members : 4, 04/2020 to 05/2020\t\t Objective: To develop a website using HTML, CSS, JavaScript, and Google Location service to provide  an authentic cross-platform web interface that offers customer functionalities in addition to the blood donation Application. Surveyed other similar platforms; scrutinized the drawbacks in functionalities and technologies.    Led a team of 4 members and divided the modules between 4 members; Successfully performed final integration and debugging. Incorporated additional details in order to conducted universal search inclusive of other physiological parameters  Real time Blood donor search app, Members : 1, 03/2020 to 04/2020\t\t Objective: To construct an android application to track the donors who are nearest to a recipient. Gained knowledge in Firebase authentication, Google Location service API, Firebase Firestore, and Haversine Algorithm Created a system plan; studied the existing system; created Wireframe diagrams and UML diagrams  Designed and established the UI using the XML, and connected the working logic by coding in Java. Chose Haversine Algorithm after studying its efficiency in comparison with other algorithms to process bulk data and accuracy in detecting distance Submitted and implemented in real time for the college National Cadet Corps. Promoted the application by sharing with people in Blood Donation Campus.  Gitam Chatbot Android Application, GITAM University, Members : 1, 12/2012 to 01/2020\t\t Objective: To build android application using Android Studio and incorporated machine learning tools to train the model to answer queries regarding GITAM University.  Learned advanced concepts of Android Studio, GoogleDialogue Flow, and Java to execute the functionalities. Developed the application UI using XML, and linked logic to the interface using Java. Determined the layout structure using Recycler View. Implemented the Google Text to Speech Engine in the application to allow voice enabled queries. Gathered over 2000 potential queries and answers to train the model using the cloud function. Generated intents to be fed into the dialogue flow and prepared the model to answer queries precisely. Upon the auto training over a week, attained an accuracy of 97%. Certifications Android specialization by vanderbilt university :\tHow to build android apps from scratch, Coursera, 11/2019 Python3 specialization by University of Michigan:How to use python and its powerful tools like tesseract open cv and other modules, Coursera, 05/2020 Machine learning by Stanford University: Gradient descents, Regularization, Support vector machines, forward and backward propagations etc., Coursera. 07/2020 Problem solving through Programming in C, National Program on Technology Enhanced Learning, IIT Khargpur, 10/2019 Microsoft Virtual Intern, Go-To-Market: Undergraduate & Masters Asia Virtual Experience Program Learner,  Forage Virtual Internships- 10/2020 Python Basics Certification Exam, Hacker Rank, 04/2020  Positions of Responsibilities Web Master, CSI India, GITAM Student, 01/2019 – 01/2020 GITAM University\t\t\t\t\t\t\t                  Organized 10 mock placements events distributed over the entire year. Designed website for the CSI GITAM Chapter to publish event reports and notifications. Conducted 15 Workshops and 10 competitions in affiliation with external companies.       Organizing Member, Ethereal 2.0 Fest, 01/2020 GITAM University\t\t\t\t\t\t\t                  Orchestrated hackathons for picking out the best coder from the different departments. Conducted technical competitions such as BrainTwister, CodePainter, and BugsI. Delegated work to a core team of 15 members each with a sub team.  Extra-Curricular Activities Participated in Weekly Hackathons to solve various code, 2017- Present Preview Build Tester for Microsoft Windows Insider, 11/2015- Present Invited for and attended the Windows 10 Launch Event at Mumbai, 11/ 2015 Active member in the National Service Scheme, 11/2017 -Present\t  Relevant Skills Programming or Scripting Languages :  C , C++, Java, Python, Shell Scripting, JavaScript, HTML, CSS Databases :  SQLite, Firebase Tools: Android Studio, Anaconda Operating System: Kali Linux, Windows, Ubuntu, Android Languages: Telugu(Expert), English(Proficient)\n",
            "WARNING:tensorflow:Model was constructed with shape (None, 1200) for input KerasTensor(type_spec=TensorSpec(shape=(None, 1200), dtype=tf.float32, name='embedding_1_input'), name='embedding_1_input', description=\"created by layer 'embedding_1_input'\"), but it was called on an input with incompatible shape (None, 297).\n"
          ],
          "name": "stdout"
        },
        {
          "output_type": "stream",
          "text": [
            "WARNING:tensorflow:Model was constructed with shape (None, 1200) for input KerasTensor(type_spec=TensorSpec(shape=(None, 1200), dtype=tf.float32, name='embedding_1_input'), name='embedding_1_input', description=\"created by layer 'embedding_1_input'\"), but it was called on an input with incompatible shape (None, 297).\n"
          ],
          "name": "stderr"
        },
        {
          "output_type": "stream",
          "text": [
            "[[6.0203353e-09 9.9979085e-01 3.9995510e-10 6.3880038e-12 3.4133486e-12\n",
            "  1.8035316e-12 5.7585051e-11 9.4341141e-07 7.6114514e-12 1.2941230e-09\n",
            "  1.6374994e-04 4.3537179e-07 2.1210372e-13 1.0793641e-05 5.6328724e-07\n",
            "  6.5924667e-08 5.8969452e-10 2.5324211e-06 6.7963333e-06 3.8642273e-07\n",
            "  5.4078587e-08 2.2852690e-05 4.8487202e-08 2.7314576e-12 1.1095518e-09]]\n",
            "['Android developer']\n",
            "[1]\n"
          ],
          "name": "stdout"
        }
      ]
    },
    {
      "cell_type": "code",
      "metadata": {
        "id": "-3_HZXD_rpUp"
      },
      "source": [
        "import json\n",
        "\n",
        "with open( '/content/gdrive/My Drive/dataset/dict.json' , 'w' ) as file:\n",
        "    json.dump( tokenizer.word_index , file )\n"
      ],
      "execution_count": 34,
      "outputs": []
    },
    {
      "cell_type": "code",
      "metadata": {
        "id": "JspCmZQ1rpUp"
      },
      "source": [
        "import tensorflow as tf\n",
        "interpreter = tf.lite.Interpreter(\"/content/gdrive/My Drive/dataset/converted_model-cnn.tflite\")"
      ],
      "execution_count": 35,
      "outputs": []
    },
    {
      "cell_type": "code",
      "metadata": {
        "id": "b6X2_Oj5rpUp"
      },
      "source": [
        "interpreter.allocate_tensors()\n",
        "input_details = interpreter.get_input_details()\n",
        "output_details = interpreter.get_output_details()"
      ],
      "execution_count": 36,
      "outputs": []
    },
    {
      "cell_type": "code",
      "metadata": {
        "colab": {
          "base_uri": "https://localhost:8080/"
        },
        "id": "w1LxWojDrpUp",
        "outputId": "be8382fe-5a46-400f-9896-c695987bfb32"
      },
      "source": [
        "output_details"
      ],
      "execution_count": 37,
      "outputs": [
        {
          "output_type": "execute_result",
          "data": {
            "text/plain": [
              "[{'dtype': numpy.float32,\n",
              "  'index': 19,\n",
              "  'name': 'Identity',\n",
              "  'quantization': (0.0, 0),\n",
              "  'quantization_parameters': {'quantized_dimension': 0,\n",
              "   'scales': array([], dtype=float32),\n",
              "   'zero_points': array([], dtype=int32)},\n",
              "  'shape': array([ 1, 25], dtype=int32),\n",
              "  'shape_signature': array([-1, 25], dtype=int32),\n",
              "  'sparsity_parameters': {}}]"
            ]
          },
          "metadata": {
            "tags": []
          },
          "execution_count": 37
        }
      ]
    },
    {
      "cell_type": "code",
      "metadata": {
        "colab": {
          "base_uri": "https://localhost:8080/"
        },
        "id": "jpc7LCXPrpUq",
        "outputId": "ee4f4de7-431d-4720-e4a1-9643cb650d47"
      },
      "source": [
        "input_details"
      ],
      "execution_count": 38,
      "outputs": [
        {
          "output_type": "execute_result",
          "data": {
            "text/plain": [
              "[{'dtype': numpy.float32,\n",
              "  'index': 0,\n",
              "  'name': 'embedding_1_input',\n",
              "  'quantization': (0.0, 0),\n",
              "  'quantization_parameters': {'quantized_dimension': 0,\n",
              "   'scales': array([], dtype=float32),\n",
              "   'zero_points': array([], dtype=int32)},\n",
              "  'shape': array([   1, 1200], dtype=int32),\n",
              "  'shape_signature': array([  -1, 1200], dtype=int32),\n",
              "  'sparsity_parameters': {}}]"
            ]
          },
          "metadata": {
            "tags": []
          },
          "execution_count": 38
        }
      ]
    },
    {
      "cell_type": "code",
      "metadata": {
        "colab": {
          "base_uri": "https://localhost:8080/"
        },
        "id": "QSWKHckPrpUq",
        "outputId": "6ffe8b76-137d-4875-fc2e-67527ae092d0"
      },
      "source": [
        "tf.version"
      ],
      "execution_count": 39,
      "outputs": [
        {
          "output_type": "execute_result",
          "data": {
            "text/plain": [
              "<module 'tensorflow._api.v2.version' from '/usr/local/lib/python3.7/dist-packages/tensorflow/_api/v2/version/__init__.py'>"
            ]
          },
          "metadata": {
            "tags": []
          },
          "execution_count": 39
        }
      ]
    },
    {
      "cell_type": "code",
      "metadata": {
        "id": "w-zF2dXxrpUq",
        "colab": {
          "base_uri": "https://localhost:8080/"
        },
        "outputId": "a0de625f-5eb5-464f-b348-e540a59acad3"
      },
      "source": [
        "import tensorflow as tf\n",
        "from google.colab import drive\n",
        "drive.mount(\"/content/gdrive\")\n",
        "interpreter = tf.lite.Interpreter(model_path=\"/content/gdrive/My Drive/dataset/converted_model-cnn.tflite\")\n",
        "interpreter.allocate_tensors()\n",
        "\n",
        "# Print input shape and type\n",
        "inputs = interpreter.get_input_details()\n",
        "print('{} input(s):'.format(len(inputs)))\n",
        "for i in range(0, len(inputs)):\n",
        "    print('{} {}'.format(inputs[i]['shape'], inputs[i]['dtype']))\n",
        "\n",
        "# Print output shape and type\n",
        "outputs = interpreter.get_output_details()\n",
        "print('\\n{} output(s):'.format(len(outputs)))\n",
        "for i in range(0, len(outputs)):\n",
        "    print('{} {}'.format(outputs[i]['shape'], outputs[i]['dtype']))"
      ],
      "execution_count": 40,
      "outputs": [
        {
          "output_type": "stream",
          "text": [
            "Drive already mounted at /content/gdrive; to attempt to forcibly remount, call drive.mount(\"/content/gdrive\", force_remount=True).\n",
            "1 input(s):\n",
            "[   1 1200] <class 'numpy.float32'>\n",
            "\n",
            "1 output(s):\n",
            "[ 1 25] <class 'numpy.float32'>\n"
          ],
          "name": "stdout"
        }
      ]
    }
  ]
}