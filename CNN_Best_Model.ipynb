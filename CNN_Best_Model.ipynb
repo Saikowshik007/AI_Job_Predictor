{
  "nbformat": 4,
  "nbformat_minor": 0,
  "metadata": {
    "kernelspec": {
      "display_name": "Python 3",
      "language": "python",
      "name": "python3"
    },
    "language_info": {
      "codemirror_mode": {
        "name": "ipython",
        "version": 3
      },
      "file_extension": ".py",
      "mimetype": "text/x-python",
      "name": "python",
      "nbconvert_exporter": "python",
      "pygments_lexer": "ipython3",
      "version": "3.8.3"
    },
    "colab": {
      "name": "CNN-Best Model.ipynb",
      "provenance": [],
      "include_colab_link": true
    },
    "accelerator": "GPU"
  },
  "cells": [
    {
      "cell_type": "markdown",
      "metadata": {
        "id": "view-in-github",
        "colab_type": "text"
      },
      "source": [
        "<a href=\"https://colab.research.google.com/github/Saikowshik007/AI_Job_Predictor/blob/master/CNN_Best_Model.ipynb\" target=\"_parent\"><img src=\"https://colab.research.google.com/assets/colab-badge.svg\" alt=\"Open In Colab\"/></a>"
      ]
    },
    {
      "cell_type": "code",
      "metadata": {
        "scrolled": true,
        "id": "DqtZuNyJrpUg"
      },
      "source": [
        "from keras.models import Sequential\n",
        "from keras.layers import Conv1D, GlobalMaxPooling1D, Embedding, LSTM\n",
        "from keras.layers.core import Dense, Dropout, Activation\n",
        "from keras.preprocessing.text import Tokenizer\n",
        "from keras import metrics, regularizers\n",
        "from keras.preprocessing import sequence\n",
        "import pandas as pd\n",
        "\n",
        "from sklearn.model_selection import train_test_split\n",
        "from sklearn.preprocessing import LabelBinarizer"
      ],
      "execution_count": 41,
      "outputs": []
    },
    {
      "cell_type": "code",
      "metadata": {
        "colab": {
          "base_uri": "https://localhost:8080/"
        },
        "id": "aZEVcSp7rpUl",
        "outputId": "e74d8b88-a003-4985-d6b0-248f99c0f76e"
      },
      "source": [
        "#Load cleaned dataset\n",
        "from google.colab import drive\n",
        "drive.mount(\"/content/gdrive\")\n",
        "data = pd.read_csv('/content/gdrive/My Drive/dataset/sample.csv', header = 0, names = ['Query', 'Description'],encoding=\"utf-8-sig\")"
      ],
      "execution_count": 42,
      "outputs": [
        {
          "output_type": "stream",
          "text": [
            "Drive already mounted at /content/gdrive; to attempt to forcibly remount, call drive.mount(\"/content/gdrive\", force_remount=True).\n"
          ],
          "name": "stdout"
        }
      ]
    },
    {
      "cell_type": "code",
      "metadata": {
        "id": "cEJavoN6rpUl"
      },
      "source": [
        "#Split the dataset to Training and Test subsets (90/10)\n",
        "train, test = train_test_split(data, test_size = 0.1, random_state = 17)\n",
        "\n",
        "train_descs = train['Description'].astype(\"str\")\n",
        "train_labels = train['Query'].astype(\"str\")\n",
        " \n",
        "test_descs = test['Description'].astype(\"str\")\n",
        "test_labels = test['Query'].astype(\"str\")"
      ],
      "execution_count": 43,
      "outputs": []
    },
    {
      "cell_type": "code",
      "metadata": {
        "id": "OrslE7X4rpUm"
      },
      "source": [
        "# Model Parameters\n",
        "vocab_size = 1000\n",
        "\n",
        "sequences_length = 1200\n",
        "\n",
        "embedding_dimensionality = 64 \n",
        "max_features = 2000 #equal to vocab_size\n",
        "\n",
        "num_labels = len(train_labels.unique())\n",
        "batch_size = 32\n",
        "nb_epoch = 20\n",
        "\n",
        "nof_filters = 200\n",
        "kernel_size = 16\n",
        "\n",
        "hidden_dims = 512"
      ],
      "execution_count": 44,
      "outputs": []
    },
    {
      "cell_type": "code",
      "metadata": {
        "id": "TMmEtidxrpUm"
      },
      "source": [
        "# Convert Texts to Numeric Vectors for Input\n",
        "tokenizer = Tokenizer(num_words = vocab_size)\n",
        "tokenizer.fit_on_texts(train_descs)\n",
        "\n",
        "x_train = tokenizer.texts_to_sequences(train_descs)\n",
        "x_test = tokenizer.texts_to_sequences(test_descs)\n",
        "\n",
        "x_train = sequence.pad_sequences(x_train, maxlen = sequences_length, padding = 'post')\n",
        "x_test = sequence.pad_sequences(x_test, maxlen = sequences_length, padding = 'post')\n",
        "\n",
        "encoder = LabelBinarizer()\n",
        "encoder.fit(train_labels)\n",
        "y_train = encoder.transform(train_labels)\n",
        "y_test = encoder.transform(test_labels)"
      ],
      "execution_count": 45,
      "outputs": []
    },
    {
      "cell_type": "code",
      "metadata": {
        "colab": {
          "base_uri": "https://localhost:8080/"
        },
        "id": "SJwU-liNrpUm",
        "outputId": "8aebbcf8-e6a8-47a9-93cb-68263d61abfa"
      },
      "source": [
        "model = Sequential()\n",
        "model.add(Embedding(max_features, embedding_dimensionality, input_length = 1200))\n",
        "\n",
        "model.add(Conv1D(nof_filters, kernel_size, padding='valid', activation='relu', strides = 1))\n",
        "model.add(GlobalMaxPooling1D())\n",
        "\n",
        "model.add(Dense(hidden_dims))\n",
        "model.add(Dropout(0.3))\n",
        "model.add(Activation('relu'))\n",
        "\n",
        "model.add(Dense(num_labels))\n",
        "model.add(Activation('softmax'))\n",
        "\n",
        "model.summary()\n",
        "model.compile(loss='categorical_crossentropy', optimizer='adam', #'sgd', 'adam', 'RMSprop', 'Adagrad'\n",
        "                   metrics = [metrics.categorical_accuracy])"
      ],
      "execution_count": 46,
      "outputs": [
        {
          "output_type": "stream",
          "text": [
            "Model: \"sequential_2\"\n",
            "_________________________________________________________________\n",
            "Layer (type)                 Output Shape              Param #   \n",
            "=================================================================\n",
            "embedding_2 (Embedding)      (None, 1200, 64)          128000    \n",
            "_________________________________________________________________\n",
            "conv1d_2 (Conv1D)            (None, 1185, 200)         205000    \n",
            "_________________________________________________________________\n",
            "global_max_pooling1d_2 (Glob (None, 200)               0         \n",
            "_________________________________________________________________\n",
            "dense_4 (Dense)              (None, 512)               102912    \n",
            "_________________________________________________________________\n",
            "dropout_2 (Dropout)          (None, 512)               0         \n",
            "_________________________________________________________________\n",
            "activation_4 (Activation)    (None, 512)               0         \n",
            "_________________________________________________________________\n",
            "dense_5 (Dense)              (None, 25)                12825     \n",
            "_________________________________________________________________\n",
            "activation_5 (Activation)    (None, 25)                0         \n",
            "=================================================================\n",
            "Total params: 448,737\n",
            "Trainable params: 448,737\n",
            "Non-trainable params: 0\n",
            "_________________________________________________________________\n"
          ],
          "name": "stdout"
        }
      ]
    },
    {
      "cell_type": "code",
      "metadata": {
        "scrolled": true,
        "colab": {
          "base_uri": "https://localhost:8080/"
        },
        "id": "HZrMre8urpUn",
        "outputId": "e1de763e-e2e5-4d1d-86c9-bbebef92f545"
      },
      "source": [
        "history = model.fit(x_train, y_train,\n",
        "                    batch_size = batch_size,\n",
        "                    epochs = nb_epoch,\n",
        "                    verbose = True,\n",
        "                    validation_split = 0.01)"
      ],
      "execution_count": 47,
      "outputs": [
        {
          "output_type": "stream",
          "text": [
            "Epoch 1/20\n",
            "488/488 [==============================] - 9s 18ms/step - loss: 2.4555 - categorical_accuracy: 0.2726 - val_loss: 0.3721 - val_categorical_accuracy: 0.8734\n",
            "Epoch 2/20\n",
            "488/488 [==============================] - 8s 17ms/step - loss: 0.3852 - categorical_accuracy: 0.8758 - val_loss: 0.2652 - val_categorical_accuracy: 0.9051\n",
            "Epoch 3/20\n",
            "488/488 [==============================] - 8s 17ms/step - loss: 0.2006 - categorical_accuracy: 0.9363 - val_loss: 0.2441 - val_categorical_accuracy: 0.9367\n",
            "Epoch 4/20\n",
            "488/488 [==============================] - 9s 18ms/step - loss: 0.1648 - categorical_accuracy: 0.9489 - val_loss: 0.2355 - val_categorical_accuracy: 0.9177\n",
            "Epoch 5/20\n",
            "488/488 [==============================] - 9s 18ms/step - loss: 0.1424 - categorical_accuracy: 0.9568 - val_loss: 0.2025 - val_categorical_accuracy: 0.9177\n",
            "Epoch 6/20\n",
            "488/488 [==============================] - 9s 18ms/step - loss: 0.1345 - categorical_accuracy: 0.9580 - val_loss: 0.3056 - val_categorical_accuracy: 0.9177\n",
            "Epoch 7/20\n",
            "488/488 [==============================] - 9s 18ms/step - loss: 0.1294 - categorical_accuracy: 0.9622 - val_loss: 0.2474 - val_categorical_accuracy: 0.9051\n",
            "Epoch 8/20\n",
            "488/488 [==============================] - 9s 18ms/step - loss: 0.1034 - categorical_accuracy: 0.9634 - val_loss: 0.2710 - val_categorical_accuracy: 0.9114\n",
            "Epoch 9/20\n",
            "488/488 [==============================] - 9s 18ms/step - loss: 0.1025 - categorical_accuracy: 0.9609 - val_loss: 0.2476 - val_categorical_accuracy: 0.9051\n",
            "Epoch 10/20\n",
            "488/488 [==============================] - 9s 18ms/step - loss: 0.0912 - categorical_accuracy: 0.9665 - val_loss: 0.2220 - val_categorical_accuracy: 0.9241\n",
            "Epoch 11/20\n",
            "488/488 [==============================] - 9s 18ms/step - loss: 0.0764 - categorical_accuracy: 0.9674 - val_loss: 0.2716 - val_categorical_accuracy: 0.9241\n",
            "Epoch 12/20\n",
            "488/488 [==============================] - 9s 18ms/step - loss: 0.0788 - categorical_accuracy: 0.9633 - val_loss: 0.2987 - val_categorical_accuracy: 0.9051\n",
            "Epoch 13/20\n",
            "488/488 [==============================] - 9s 18ms/step - loss: 0.0683 - categorical_accuracy: 0.9693 - val_loss: 0.2481 - val_categorical_accuracy: 0.9304\n",
            "Epoch 14/20\n",
            "488/488 [==============================] - 9s 18ms/step - loss: 0.0692 - categorical_accuracy: 0.9648 - val_loss: 0.3015 - val_categorical_accuracy: 0.9241\n",
            "Epoch 15/20\n",
            "488/488 [==============================] - 9s 18ms/step - loss: 0.0676 - categorical_accuracy: 0.9675 - val_loss: 0.2317 - val_categorical_accuracy: 0.9367\n",
            "Epoch 16/20\n",
            "488/488 [==============================] - 9s 18ms/step - loss: 0.0692 - categorical_accuracy: 0.9631 - val_loss: 0.3385 - val_categorical_accuracy: 0.9177\n",
            "Epoch 17/20\n",
            "488/488 [==============================] - 9s 18ms/step - loss: 0.0634 - categorical_accuracy: 0.9690 - val_loss: 0.4207 - val_categorical_accuracy: 0.9367\n",
            "Epoch 18/20\n",
            "488/488 [==============================] - 9s 18ms/step - loss: 0.0639 - categorical_accuracy: 0.9658 - val_loss: 0.3395 - val_categorical_accuracy: 0.9241\n",
            "Epoch 19/20\n",
            "488/488 [==============================] - 9s 18ms/step - loss: 0.0645 - categorical_accuracy: 0.9657 - val_loss: 0.4127 - val_categorical_accuracy: 0.9304\n",
            "Epoch 20/20\n",
            "488/488 [==============================] - 9s 18ms/step - loss: 0.0679 - categorical_accuracy: 0.9654 - val_loss: 0.3916 - val_categorical_accuracy: 0.9241\n"
          ],
          "name": "stdout"
        }
      ]
    },
    {
      "cell_type": "code",
      "metadata": {
        "colab": {
          "base_uri": "https://localhost:8080/"
        },
        "id": "BFelYPQ9rpUn",
        "outputId": "c3f8cebd-8d74-4b75-f580-660c6a96a18c"
      },
      "source": [
        "score = model.evaluate(x_test, y_test, batch_size = batch_size, verbose = True)\n",
        " \n",
        "print('\\nTest categorical_crossentropy:', score[0])\n",
        "print('Categorical accuracy:', score[1])\n"
      ],
      "execution_count": 48,
      "outputs": [
        {
          "output_type": "stream",
          "text": [
            "55/55 [==============================] - 0s 7ms/step - loss: 0.3429 - categorical_accuracy: 0.9309\n",
            "\n",
            "Test categorical_crossentropy: 0.34292227029800415\n",
            "Categorical accuracy: 0.9308571219444275\n"
          ],
          "name": "stdout"
        }
      ]
    },
    {
      "cell_type": "code",
      "metadata": {
        "colab": {
          "base_uri": "https://localhost:8080/",
          "height": 295
        },
        "id": "VhG8MLu4rpUo",
        "outputId": "318fc656-d4b1-4c58-8709-9e2b6944b31a"
      },
      "source": [
        "# summarize history for accuracy\n",
        "import matplotlib.pyplot as plt\n",
        "\n",
        "plt.plot(history.history['categorical_accuracy'])\n",
        "plt.plot(history.history['val_categorical_accuracy'])\n",
        "plt.title('model accuracy')\n",
        "plt.ylabel('classification accuracy')\n",
        "plt.xlabel('epochs')\n",
        "plt.legend(['train', 'test'], loc='upper left')\n",
        "plt.show()"
      ],
      "execution_count": 49,
      "outputs": [
        {
          "output_type": "display_data",
          "data": {
            "image/png": "[encoded data removed]",
            "text/plain": [
              "<Figure size 432x288 with 1 Axes>"
            ]
          },
          "metadata": {
            "tags": [],
            "needs_background": "light"
          }
        }
      ]
    },
    {
      "cell_type": "code",
      "metadata": {
        "id": "QPWFSCUqrpUo"
      },
      "source": [
        "model.save( '/content/gdrive/My Drive/dataset/model-cnn.h5' )"
      ],
      "execution_count": 50,
      "outputs": []
    },
    {
      "cell_type": "code",
      "metadata": {
        "colab": {
          "base_uri": "https://localhost:8080/"
        },
        "id": "SF75bv4crpUo",
        "outputId": "2b559049-4750-4b66-bb18-3d03ff0e61b8"
      },
      "source": [
        "import tensorflow as tf\n",
        "\n",
        "model = tf.keras.models.load_model('/content/gdrive/My Drive/dataset/model-cnn.h5')\n",
        "converter = tf.lite.TFLiteConverter.from_keras_model(model)\n",
        "tflite_model = converter.convert()\n",
        "open(\"/content/gdrive/My Drive/dataset/converted_model-cnn.tflite\", \"wb\").write(tflite_model)"
      ],
      "execution_count": 51,
      "outputs": [
        {
          "output_type": "stream",
          "text": [
            "INFO:tensorflow:Assets written to: /tmp/tmpj5nec4md/assets\n"
          ],
          "name": "stdout"
        },
        {
          "output_type": "stream",
          "text": [
            "INFO:tensorflow:Assets written to: /tmp/tmpj5nec4md/assets\n"
          ],
          "name": "stderr"
        },
        {
          "output_type": "execute_result",
          "data": {
            "text/plain": [
              "1798476"
            ]
          },
          "metadata": {
            "tags": []
          },
          "execution_count": 51
        }
      ]
    },
    {
      "cell_type": "code",
      "metadata": {
        "colab": {
          "base_uri": "https://localhost:8080/",
          "height": 295
        },
        "id": "fqys3OeQrpUo",
        "outputId": "fc2ef672-5385-4cbb-974a-29710ea413d9"
      },
      "source": [
        "plt.plot(history.history['loss'])\n",
        "plt.plot(history.history['val_loss'])\n",
        "plt.title('model loss')\n",
        "plt.ylabel('loss')\n",
        "plt.xlabel('epoch')\n",
        "plt.legend(['train', 'test'], loc='upper left')\n",
        "plt.show()"
      ],
      "execution_count": 52,
      "outputs": [
        {
          "output_type": "display_data",
          "data": {
            "image/png": "[encoded data removed]",
            "text/plain": [
              "<Figure size 432x288 with 1 Axes>"
            ]
          },
          "metadata": {
            "tags": [],
            "needs_background": "light"
          }
        }
      ]
    },
    {
      "cell_type": "code",
      "metadata": {
        "id": "kSgXn_0UrpUp",
        "colab": {
          "base_uri": "https://localhost:8080/"
        },
        "outputId": "e2a553d7-f8e9-40b1-c161-e4526f6aff45"
      },
      "source": [
        "text=input()\n",
        "try:\n",
        "    predict=model.predict(tokenizer.texts_to_sequences([text]))\n",
        "    print(predict)\n",
        "    print(encoder.inverse_transform(predict))\n",
        "    print(predict.argmax(axis=-1))\n",
        "except:\n",
        "    print(\"Invalid Input\")"
      ],
      "execution_count": 53,
      "outputs": [
        {
          "output_type": "stream",
          "text": [
            "   Education Bachelor of Technology: Computer Science, 2017- Present GITAM University, Vishakhapatnam CGPA : 8.71/10  Work Experience Computer Repair Technician- Part-Time - 05/2018 to Present Self-Employed, Vishakhapatnam Implemented overclocking CPU an Graphical processing units of computers and Laptops. Conducted custom ROM testing for hardware devices. Repaired phone software on hard bricked phones. Done jailbreaking of iPhones Performed System Operating System Updations and Trouble shooting Upgraded system devices for both laptops and desktop computers Thermal Compound repasting in Computers and Laptops between the components. Internships Technical Assistant - 05/2020 to Present Venture Development Center, North-Eastern University in collab with GITAM, Vishakhapatnam Pitched new product ideas, built and presented the proposals; Discussed, reviewed and evaluated the ideas. Worked on the idea of a prototype to order photocopies online; Designed and tested the prototype Android developer who transfer the idea into a prototype. It is a startup business idea in which we’ve created a prototype to order photocopies online. Android studio, Java ,XML , Firebase, Firestore, Cloud messaging, Recycler Views and Broadcast receivers and services.  Academic Projects Picky Copy Application, Members : 4, 7/2020 to Present\t\t Objective: To create an application for college going students and Employees in the education sector to place online orders for prints and photocopies. Developed accounts for two users : the Vendor and the Customer in Android Studio. Implemented FireBase authentication for authenticating user entry and registration. Integrating location services to identify nearest Vendors. Incorporated Chat Application to conduct live chat on the app between customers and vendors. Utilized FireStore to manages user files through cloud.   Website for Blood Donors based on locality, Members : 4, 04/2020 to 05/2020\t\t Objective: To develop a website using HTML, CSS, JavaScript, and Google Location service to provide  an authentic cross-platform web interface that offers customer functionalities in addition to the blood donation Application. Surveyed other similar platforms; scrutinized the drawbacks in functionalities and technologies.    Led a team of 4 members and divided the modules between 4 members; Successfully performed final integration and debugging. Incorporated additional details in order to conducted universal search inclusive of other physiological parameters  Real time Blood donor search app, Members : 1, 03/2020 to 04/2020\t\t Objective: To construct an android application to track the donors who are nearest to a recipient. Gained knowledge in Firebase authentication, Google Location service API, Firebase Firestore, and Haversine Algorithm Created a system plan; studied the existing system; created Wireframe diagrams and UML diagrams  Designed and established the UI using the XML, and connected the working logic by coding in Java. Chose Haversine Algorithm after studying its efficiency in comparison with other algorithms to process bulk data and accuracy in detecting distance Submitted and implemented in real time for the college National Cadet Corps. Promoted the application by sharing with people in Blood Donation Campus.  Gitam Chatbot Android Application, GITAM University, Members : 1, 12/2012 to 01/2020\t\t Objective: To build android application using Android Studio and incorporated machine learning tools to train the model to answer queries regarding GITAM University.  Learned advanced concepts of Android Studio, GoogleDialogue Flow, and Java to execute the functionalities. Developed the application UI using XML, and linked logic to the interface using Java. Determined the layout structure using Recycler View. Implemented the Google Text to Speech Engine in the application to allow voice enabled queries. Gathered over 2000 potential queries and answers to train the model using the cloud function. Generated intents to be fed into the dialogue flow and prepared the model to answer queries precisely. Upon the auto training over a week, attained an accuracy of 97%. Certifications Android specialization by vanderbilt university :\tHow to build android apps from scratch, Coursera, 11/2019 Python3 specialization by University of Michigan:How to use python and its powerful tools like tesseract open cv and other modules, Coursera, 05/2020 Machine learning by Stanford University: Gradient descents, Regularization, Support vector machines, forward and backward propagations etc., Coursera. 07/2020 Problem solving through Programming in C, National Program on Technology Enhanced Learning, IIT Khargpur, 10/2019 Microsoft Virtual Intern, Go-To-Market: Undergraduate & Masters Asia Virtual Experience Program Learner,  Forage Virtual Internships- 10/2020 Python Basics Certification Exam, Hacker Rank, 04/2020  Positions of Responsibilities Web Master, CSI India, GITAM Student, 01/2019 – 01/2020 GITAM University\t\t\t\t\t\t\t                  Organized 10 mock placements events distributed over the entire year. Designed website for the CSI GITAM Chapter to publish event reports and notifications. Conducted 15 Workshops and 10 competitions in affiliation with external companies.       Organizing Member, Ethereal 2.0 Fest, 01/2020 GITAM University\t\t\t\t\t\t\t                  Orchestrated hackathons for picking out the best coder from the different departments. Conducted technical competitions such as BrainTwister, CodePainter, and BugsI. Delegated work to a core team of 15 members each with a sub team.  Extra-Curricular Activities Participated in Weekly Hackathons to solve various code, 2017- Present Preview Build Tester for Microsoft Windows Insider, 11/2015- Present Invited for and attended the Windows 10 Launch Event at Mumbai, 11/ 2015 Active member in the National Service Scheme, 11/2017 -Present\t  Relevant Skills Programming or Scripting Languages :  C , C++, Java, Python, Shell Scripting, JavaScript, HTML, CSS Databases :  SQLite, Firebase Tools: Android Studio, Anaconda Operating System: Kali Linux, Windows, Ubuntu, Android Languages: Telugu(Expert), English(Proficient)\n",
            "WARNING:tensorflow:Model was constructed with shape (None, 1200) for input KerasTensor(type_spec=TensorSpec(shape=(None, 1200), dtype=tf.float32, name='embedding_2_input'), name='embedding_2_input', description=\"created by layer 'embedding_2_input'\"), but it was called on an input with incompatible shape (None, 296).\n"
          ],
          "name": "stdout"
        },
        {
          "output_type": "stream",
          "text": [
            "WARNING:tensorflow:Model was constructed with shape (None, 1200) for input KerasTensor(type_spec=TensorSpec(shape=(None, 1200), dtype=tf.float32, name='embedding_2_input'), name='embedding_2_input', description=\"created by layer 'embedding_2_input'\"), but it was called on an input with incompatible shape (None, 296).\n"
          ],
          "name": "stderr"
        },
        {
          "output_type": "stream",
          "text": [
            "[[1.05612905e-08 9.98221457e-01 3.21420579e-09 1.28789179e-09\n",
            "  2.32316361e-10 4.26425215e-12 3.79599043e-12 1.98859440e-09\n",
            "  3.96776556e-07 1.10959229e-06 2.16911139e-05 4.87380913e-10\n",
            "  9.64841424e-15 3.71633547e-07 4.68499638e-06 4.24023966e-07\n",
            "  5.02023158e-06 1.06383202e-04 2.01488128e-05 3.36246615e-07\n",
            "  8.68858751e-06 1.60567067e-03 3.60758781e-06 2.68272426e-08\n",
            "  1.88241867e-09]]\n",
            "['Android developer']\n",
            "[1]\n"
          ],
          "name": "stdout"
        }
      ]
    },
    {
      "cell_type": "code",
      "metadata": {
        "id": "-3_HZXD_rpUp"
      },
      "source": [
        "import json\n",
        "\n",
        "with open( '/content/gdrive/My Drive/dataset/dict.json' , 'w' ) as file:\n",
        "    json.dump( tokenizer.word_index , file )\n"
      ],
      "execution_count": 54,
      "outputs": []
    },
    {
      "cell_type": "code",
      "metadata": {
        "id": "JspCmZQ1rpUp"
      },
      "source": [
        "import tensorflow as tf\n",
        "interpreter = tf.lite.Interpreter(\"/content/gdrive/My Drive/dataset/converted_model-cnn.tflite\")"
      ],
      "execution_count": 55,
      "outputs": []
    },
    {
      "cell_type": "code",
      "metadata": {
        "id": "b6X2_Oj5rpUp"
      },
      "source": [
        "interpreter.allocate_tensors()\n",
        "input_details = interpreter.get_input_details()\n",
        "output_details = interpreter.get_output_details()"
      ],
      "execution_count": 56,
      "outputs": []
    },
    {
      "cell_type": "code",
      "metadata": {
        "colab": {
          "base_uri": "https://localhost:8080/"
        },
        "id": "w1LxWojDrpUp",
        "outputId": "8d151f9d-adcc-4867-ebe5-95d69f4653f3"
      },
      "source": [
        "output_details"
      ],
      "execution_count": 57,
      "outputs": [
        {
          "output_type": "execute_result",
          "data": {
            "text/plain": [
              "[{'dtype': numpy.float32,\n",
              "  'index': 19,\n",
              "  'name': 'Identity',\n",
              "  'quantization': (0.0, 0),\n",
              "  'quantization_parameters': {'quantized_dimension': 0,\n",
              "   'scales': array([], dtype=float32),\n",
              "   'zero_points': array([], dtype=int32)},\n",
              "  'shape': array([ 1, 25], dtype=int32),\n",
              "  'shape_signature': array([-1, 25], dtype=int32),\n",
              "  'sparsity_parameters': {}}]"
            ]
          },
          "metadata": {
            "tags": []
          },
          "execution_count": 57
        }
      ]
    },
    {
      "cell_type": "code",
      "metadata": {
        "colab": {
          "base_uri": "https://localhost:8080/"
        },
        "id": "jpc7LCXPrpUq",
        "outputId": "0b803c40-139a-423e-fe99-4fa62b7c234a"
      },
      "source": [
        "input_details"
      ],
      "execution_count": 58,
      "outputs": [
        {
          "output_type": "execute_result",
          "data": {
            "text/plain": [
              "[{'dtype': numpy.float32,\n",
              "  'index': 0,\n",
              "  'name': 'embedding_2_input',\n",
              "  'quantization': (0.0, 0),\n",
              "  'quantization_parameters': {'quantized_dimension': 0,\n",
              "   'scales': array([], dtype=float32),\n",
              "   'zero_points': array([], dtype=int32)},\n",
              "  'shape': array([   1, 1200], dtype=int32),\n",
              "  'shape_signature': array([  -1, 1200], dtype=int32),\n",
              "  'sparsity_parameters': {}}]"
            ]
          },
          "metadata": {
            "tags": []
          },
          "execution_count": 58
        }
      ]
    },
    {
      "cell_type": "code",
      "metadata": {
        "colab": {
          "base_uri": "https://localhost:8080/"
        },
        "id": "QSWKHckPrpUq",
        "outputId": "76919e7e-91ba-43cb-da27-2cc13e212326"
      },
      "source": [
        "tf.version"
      ],
      "execution_count": 59,
      "outputs": [
        {
          "output_type": "execute_result",
          "data": {
            "text/plain": [
              "<module 'tensorflow._api.v2.version' from '/usr/local/lib/python3.7/dist-packages/tensorflow/_api/v2/version/__init__.py'>"
            ]
          },
          "metadata": {
            "tags": []
          },
          "execution_count": 59
        }
      ]
    },
    {
      "cell_type": "code",
      "metadata": {
        "id": "w-zF2dXxrpUq",
        "colab": {
          "base_uri": "https://localhost:8080/"
        },
        "outputId": "4fe8291f-c084-414e-dd66-7cedaab41f1e"
      },
      "source": [
        "import tensorflow as tf\n",
        "from google.colab import drive\n",
        "drive.mount(\"/content/gdrive\")\n",
        "interpreter = tf.lite.Interpreter(model_path=\"/content/gdrive/My Drive/dataset/converted_model-cnn.tflite\")\n",
        "interpreter.allocate_tensors()\n",
        "\n",
        "# Print input shape and type\n",
        "inputs = interpreter.get_input_details()\n",
        "print('{} input(s):'.format(len(inputs)))\n",
        "for i in range(0, len(inputs)):\n",
        "    print('{} {}'.format(inputs[i]['shape'], inputs[i]['dtype']))\n",
        "\n",
        "# Print output shape and type\n",
        "outputs = interpreter.get_output_details()\n",
        "print('\\n{} output(s):'.format(len(outputs)))\n",
        "for i in range(0, len(outputs)):\n",
        "    print('{} {}'.format(outputs[i]['shape'], outputs[i]['dtype']))"
      ],
      "execution_count": 60,
      "outputs": [
        {
          "output_type": "stream",
          "text": [
            "Drive already mounted at /content/gdrive; to attempt to forcibly remount, call drive.mount(\"/content/gdrive\", force_remount=True).\n",
            "1 input(s):\n",
            "[   1 1200] <class 'numpy.float32'>\n",
            "\n",
            "1 output(s):\n",
            "[ 1 25] <class 'numpy.float32'>\n"
          ],
          "name": "stdout"
        }
      ]
    }
  ]
}